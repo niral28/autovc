{
 "cells": [
  {
   "cell_type": "code",
   "execution_count": 1,
   "metadata": {},
   "outputs": [],
   "source": [
    "import pandas as pd"
   ]
  },
  {
   "cell_type": "code",
   "execution_count": 4,
   "metadata": {},
   "outputs": [
    {
     "name": "stderr",
     "output_type": "stream",
     "text": [
      "/Users/niralshah/anaconda/envs/py36/lib/python3.6/site-packages/ipykernel_launcher.py:1: ParserWarning: Falling back to the 'python' engine because the 'c' engine does not support regex separators (separators > 1 char and different from '\\s+' are interpreted as regex); you can avoid this warning by specifying engine='python'.\n",
      "  \"\"\"Entry point for launching an IPython kernel.\n"
     ]
    }
   ],
   "source": [
    "df = pd.read_csv('./data/vox1_meta.csv', delimiter='\\\\t')"
   ]
  },
  {
   "cell_type": "code",
   "execution_count": 38,
   "metadata": {},
   "outputs": [],
   "source": [
    "df_test = df[df['Set'] == 'test']"
   ]
  },
  {
   "cell_type": "code",
   "execution_count": 39,
   "metadata": {},
   "outputs": [],
   "source": [
    "voxcelebTestIDs = list(df_test['VoxCeleb1 ID'])"
   ]
  },
  {
   "cell_type": "code",
   "execution_count": 40,
   "metadata": {},
   "outputs": [],
   "source": [
    "root_dir = './data/spmel_test/'"
   ]
  },
  {
   "cell_type": "code",
   "execution_count": 41,
   "metadata": {},
   "outputs": [
    {
     "name": "stdout",
     "output_type": "stream",
     "text": [
      "--------- id10270\n",
      "./data/spmel_test/id10270/x6uYqmx31kE_00002.npy\n",
      "--------- id10271\n",
      "./data/spmel_test/id10271/zWyD72sHVwA_00001.npy\n",
      "--------- id10272\n",
      "./data/spmel_test/id10272/wb6ligRbbZ4_00001.npy\n",
      "--------- id10273\n",
      "./data/spmel_test/id10273/xN2fSTQHHkw_00002.npy\n",
      "--------- id10274\n",
      "./data/spmel_test/id10274/xbGp2KSUr0E_00001.npy\n",
      "--------- id10275\n",
      "./data/spmel_test/id10275/mWZ3l5OoyVI_00002.npy\n",
      "--------- id10276\n",
      "./data/spmel_test/id10276/3vWez3baO60_00002.npy\n",
      "--------- id10277\n",
      "./data/spmel_test/id10277/cELY3LdIo-0_00003.npy\n",
      "--------- id10278\n",
      "./data/spmel_test/id10278/y990f6UiEEM_00001.npy\n",
      "--------- id10279\n",
      "./data/spmel_test/id10279/4Q1IvdayPR8_00014.npy\n",
      "--------- id10280\n",
      "./data/spmel_test/id10280/9AtE4C309P8_00017.npy\n",
      "--------- id10281\n",
      "./data/spmel_test/id10281/1CiBWgsHT4E_00009.npy\n",
      "--------- id10282\n",
      "./data/spmel_test/id10282/qkZNuvX1UNo_00006.npy\n",
      "--------- id10283\n",
      "./data/spmel_test/id10283/p3q7Z0O6rgg_00003.npy\n",
      "--------- id10284\n",
      "./data/spmel_test/id10284/7yx9A0yzLYk_00031.npy\n",
      "--------- id10285\n",
      "./data/spmel_test/id10285/thghCiJZYwI_00002.npy\n",
      "--------- id10286\n",
      "./data/spmel_test/id10286/lBkbWztMEUY_00004.npy\n",
      "--------- id10287\n",
      "./data/spmel_test/id10287/I99R40TUF1s_00005.npy\n",
      "--------- id10288\n",
      "./data/spmel_test/id10288/A3ZvNuG8_oM_00001.npy\n",
      "--------- id10289\n",
      "./data/spmel_test/id10289/zFii0ROZZjc_00006.npy\n",
      "--------- id10290\n",
      "./data/spmel_test/id10290/dDnqp9503Mg_00005.npy\n",
      "--------- id10291\n",
      "./data/spmel_test/id10291/d2Lasybvo7s_00001.npy\n",
      "--------- id10292\n",
      "./data/spmel_test/id10292/ya6VNZp-pXw_00023.npy\n",
      "--------- id10293\n",
      "./data/spmel_test/id10293/nAtqrkWKIhM_00006.npy\n",
      "--------- id10294\n",
      "./data/spmel_test/id10294/NRMQOFYS41I_00002.npy\n",
      "--------- id10295\n",
      "./data/spmel_test/id10295/S9FeIMntmUE_00001.npy\n",
      "--------- id10296\n",
      "./data/spmel_test/id10296/_BVSKK5mGnY_00001.npy\n",
      "--------- id10297\n",
      "./data/spmel_test/id10297/0mtJFC7OJv4_00004.npy\n",
      "--------- id10298\n",
      "./data/spmel_test/id10298/qrJ0fQJP5gs_00001.npy\n",
      "--------- id10299\n",
      "./data/spmel_test/id10299/uaPd2Ix-wSI_00011.npy\n",
      "--------- id10300\n",
      "./data/spmel_test/id10300/SQzWyPhRqmk_00002.npy\n",
      "--------- id10301\n",
      "./data/spmel_test/id10301/vhzF7dhGJzI_00006.npy\n",
      "--------- id10302\n",
      "./data/spmel_test/id10302/ekqJava7sdE_00007.npy\n",
      "--------- id10303\n",
      "./data/spmel_test/id10303/LKDWhdJQFco_00019.npy\n",
      "--------- id10304\n",
      "./data/spmel_test/id10304/7geDDtDmWQU_00006.npy\n",
      "--------- id10305\n",
      "./data/spmel_test/id10305/Piw0wvQbpnQ_00008.npy\n",
      "--------- id10306\n",
      "./data/spmel_test/id10306/cc5WSHcgkl8_00003.npy\n",
      "--------- id10307\n",
      "./data/spmel_test/id10307/wtqPC9vEZ0M_00002.npy\n",
      "--------- id10308\n",
      "./data/spmel_test/id10308/MxBuaaxNnlE_00006.npy\n",
      "--------- id10309\n",
      "./data/spmel_test/id10309/RkN41E3gRpc_00005.npy\n"
     ]
    }
   ],
   "source": [
    "import os\n",
    "import numpy as np\n",
    "\n",
    "paths = []\n",
    "\n",
    "for vid in voxcelebTestIDs: \n",
    "    fullPath = os.path.join(root_dir, vid)\n",
    "    for root, dirs, files in os.walk(fullPath):\n",
    "        path = root.split(os.sep)\n",
    "        print((len(path) - 1) * '---', os.path.basename(root))\n",
    "        for file in files:\n",
    "            spectrogram = np.load(os.path.join(\"/\".join(path), file))\n",
    "            if spectrogram.shape[0] > 128:\n",
    "                full_file_path = os.path.join(\"/\".join(path), file)\n",
    "        paths.append(full_file_path)\n",
    "        print(full_file_path)\n",
    "        full_file_path = \"\"        "
   ]
  },
  {
   "cell_type": "code",
   "execution_count": 42,
   "metadata": {},
   "outputs": [
    {
     "name": "stderr",
     "output_type": "stream",
     "text": [
      "/Users/niralshah/anaconda/envs/py36/lib/python3.6/site-packages/ipykernel_launcher.py:1: SettingWithCopyWarning: \n",
      "A value is trying to be set on a copy of a slice from a DataFrame.\n",
      "Try using .loc[row_indexer,col_indexer] = value instead\n",
      "\n",
      "See the caveats in the documentation: http://pandas.pydata.org/pandas-docs/stable/indexing.html#indexing-view-versus-copy\n",
      "  \"\"\"Entry point for launching an IPython kernel.\n"
     ]
    }
   ],
   "source": [
    "df_test['full_paths'] = pd.Series(paths)"
   ]
  },
  {
   "cell_type": "code",
   "execution_count": 47,
   "metadata": {},
   "outputs": [
    {
     "name": "stderr",
     "output_type": "stream",
     "text": [
      "/Users/niralshah/anaconda/envs/py36/lib/python3.6/site-packages/ipykernel_launcher.py:1: SettingWithCopyWarning: \n",
      "A value is trying to be set on a copy of a slice from a DataFrame.\n",
      "Try using .loc[row_indexer,col_indexer] = value instead\n",
      "\n",
      "See the caveats in the documentation: http://pandas.pydata.org/pandas-docs/stable/indexing.html#indexing-view-versus-copy\n",
      "  \"\"\"Entry point for launching an IPython kernel.\n"
     ]
    }
   ],
   "source": [
    "df_test['full_paths'] = paths"
   ]
  },
  {
   "cell_type": "code",
   "execution_count": 49,
   "metadata": {},
   "outputs": [],
   "source": [
    "df_test.to_csv('test_vox1_metadata.csv')"
   ]
  },
  {
   "cell_type": "code",
   "execution_count": null,
   "metadata": {},
   "outputs": [],
   "source": []
  }
 ],
 "metadata": {
  "kernelspec": {
   "display_name": "Python 3",
   "language": "python",
   "name": "python3"
  },
  "language_info": {
   "codemirror_mode": {
    "name": "ipython",
    "version": 3
   },
   "file_extension": ".py",
   "mimetype": "text/x-python",
   "name": "python",
   "nbconvert_exporter": "python",
   "pygments_lexer": "ipython3",
   "version": "3.6.2"
  }
 },
 "nbformat": 4,
 "nbformat_minor": 2
}
