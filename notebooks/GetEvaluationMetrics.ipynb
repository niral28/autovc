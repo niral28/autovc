{
 "cells": [
  {
   "cell_type": "code",
   "execution_count": 1,
   "metadata": {},
   "outputs": [],
   "source": [
    "import pandas as pd"
   ]
  },
  {
   "cell_type": "code",
   "execution_count": 143,
   "metadata": {},
   "outputs": [],
   "source": [
    "def read_mosnet_results(filepath, dataset_folder, dataset_name):\n",
    "    vgg19_results_style_id = []\n",
    "    vgg19_results_content_id = []\n",
    "    vgg19_results_mos_score = []\n",
    "    DATASET = dataset_folder\n",
    "\n",
    "    with open(filepath, 'r') as f:\n",
    "        for line in f:\n",
    "            if 'Average' in line or 'outputs' in line:\n",
    "                continue\n",
    "            metrics = line.split(DATASET)[1]\n",
    "#             print(metrics)\n",
    "            filename, mos_score = metrics.strip().split(' ')\n",
    "            if '_' in filename:\n",
    "                filename = filename[:filename.index('_')]\n",
    "#             print(filename)\n",
    "            content_id, style_id = filename.split('x')\n",
    "            if '.wav' in style_id:\n",
    "                style_id = style_id[:style_id.index('.')]\n",
    "            vgg19_results_content_id.append(content_id)\n",
    "            vgg19_results_style_id.append(style_id)\n",
    "            vgg19_results_mos_score.append(float(mos_score))\n",
    "    df = pd.DataFrame()\n",
    "    df['content_id'] = pd.Series(vgg19_results_content_id)\n",
    "    df['style_id'] = pd.Series(vgg19_results_style_id)\n",
    "    df[dataset_name+'_mos_score'] = pd.Series(vgg19_results_mos_score)\n",
    "    return df"
   ]
  },
  {
   "cell_type": "code",
   "execution_count": 144,
   "metadata": {},
   "outputs": [],
   "source": [
    "vgg_df = read_mosnet_results('./vgg_data/MOSnet_result_raw.txt', 'vgg_data/', 'vgg')"
   ]
  },
  {
   "cell_type": "code",
   "execution_count": 145,
   "metadata": {},
   "outputs": [],
   "source": [
    "autovc_df = read_mosnet_results('./results/MOSnet_result_raw.txt', 'results/', 'autovc')"
   ]
  },
  {
   "cell_type": "code",
   "execution_count": 146,
   "metadata": {},
   "outputs": [],
   "source": [
    "shallow_cnn_df = read_mosnet_results('./neural-style-audio-tf/MOSnet_result_raw.txt', 'neural-style-audio-tf/', 'ulyanov')"
   ]
  },
  {
   "cell_type": "code",
   "execution_count": 147,
   "metadata": {},
   "outputs": [],
   "source": [
    "def get_aggregated_metadata(vgg_df):\n",
    "    metadata = pd.read_csv('test_vox1_metadata.csv')\n",
    "    \n",
    "    metadata['content_id'] = metadata['VoxCeleb1 ID']\n",
    "    metadata = metadata.drop(columns='VoxCeleb1 ID')\n",
    "    merged_df = pd.merge(vgg_df, metadata, on='content_id')\n",
    "    metadata['style_id'] = metadata['content_id']\n",
    "    merged_df['converted_style_id'] = merged_df['style_id']\n",
    "    df = pd.merge(merged_df, metadata[['style_id','Gender', 'Nationality']], on='style_id', suffixes=('_original', '_converted'))\n",
    "    return df"
   ]
  },
  {
   "cell_type": "code",
   "execution_count": 148,
   "metadata": {},
   "outputs": [],
   "source": [
    "metadata = pd.read_csv('test_vox1_metadata.csv')"
   ]
  },
  {
   "cell_type": "code",
   "execution_count": 149,
   "metadata": {},
   "outputs": [],
   "source": [
    "metadata['content_id'] = metadata['VoxCeleb1 ID']"
   ]
  },
  {
   "cell_type": "code",
   "execution_count": 150,
   "metadata": {},
   "outputs": [],
   "source": [
    "metadata = metadata.drop(columns='VoxCeleb1 ID')"
   ]
  },
  {
   "cell_type": "code",
   "execution_count": 151,
   "metadata": {},
   "outputs": [],
   "source": [
    "merged_df = pd.merge(vgg_df, metadata, on='content_id')\n"
   ]
  },
  {
   "cell_type": "code",
   "execution_count": 152,
   "metadata": {},
   "outputs": [],
   "source": [
    "metadata['style_id'] = metadata['content_id']"
   ]
  },
  {
   "cell_type": "code",
   "execution_count": 153,
   "metadata": {},
   "outputs": [],
   "source": [
    "merged_df['converted_style_id'] = merged_df['style_id']"
   ]
  },
  {
   "cell_type": "code",
   "execution_count": 154,
   "metadata": {},
   "outputs": [],
   "source": [
    "merged_vgg_df = get_aggregated_metadata(vgg_df)"
   ]
  },
  {
   "cell_type": "code",
   "execution_count": 155,
   "metadata": {},
   "outputs": [],
   "source": [
    "merged_shallow_cnn_df = get_aggregated_metadata(shallow_cnn_df)"
   ]
  },
  {
   "cell_type": "code",
   "execution_count": 156,
   "metadata": {},
   "outputs": [],
   "source": [
    "merged_autovc_df = get_aggregated_metadata(autovc_df)"
   ]
  },
  {
   "cell_type": "code",
   "execution_count": 157,
   "metadata": {},
   "outputs": [
    {
     "data": {
      "text/html": [
       "<div>\n",
       "<style scoped>\n",
       "    .dataframe tbody tr th:only-of-type {\n",
       "        vertical-align: middle;\n",
       "    }\n",
       "\n",
       "    .dataframe tbody tr th {\n",
       "        vertical-align: top;\n",
       "    }\n",
       "\n",
       "    .dataframe thead th {\n",
       "        text-align: right;\n",
       "    }\n",
       "</style>\n",
       "<table border=\"1\" class=\"dataframe\">\n",
       "  <thead>\n",
       "    <tr style=\"text-align: right;\">\n",
       "      <th></th>\n",
       "      <th></th>\n",
       "      <th>vgg_mos_score</th>\n",
       "      <th>Unnamed: 0</th>\n",
       "    </tr>\n",
       "    <tr>\n",
       "      <th>Gender_original</th>\n",
       "      <th>Gender_converted</th>\n",
       "      <th></th>\n",
       "      <th></th>\n",
       "    </tr>\n",
       "  </thead>\n",
       "  <tbody>\n",
       "    <tr>\n",
       "      <th rowspan=\"2\" valign=\"top\">f</th>\n",
       "      <th>f</th>\n",
       "      <td>2.377000</td>\n",
       "      <td>269.000000</td>\n",
       "    </tr>\n",
       "    <tr>\n",
       "      <th>m</th>\n",
       "      <td>2.498000</td>\n",
       "      <td>269.000000</td>\n",
       "    </tr>\n",
       "    <tr>\n",
       "      <th rowspan=\"2\" valign=\"top\">m</th>\n",
       "      <th>f</th>\n",
       "      <td>2.427750</td>\n",
       "      <td>271.000000</td>\n",
       "    </tr>\n",
       "    <tr>\n",
       "      <th>m</th>\n",
       "      <td>2.417652</td>\n",
       "      <td>271.130435</td>\n",
       "    </tr>\n",
       "  </tbody>\n",
       "</table>\n",
       "</div>"
      ],
      "text/plain": [
       "                                  vgg_mos_score  Unnamed: 0\n",
       "Gender_original Gender_converted                           \n",
       "f               f                      2.377000  269.000000\n",
       "                m                      2.498000  269.000000\n",
       "m               f                      2.427750  271.000000\n",
       "                m                      2.417652  271.130435"
      ]
     },
     "execution_count": 157,
     "metadata": {},
     "output_type": "execute_result"
    }
   ],
   "source": [
    "merged_vgg_df.groupby(['Gender_original', 'Gender_converted']).mean()"
   ]
  },
  {
   "cell_type": "code",
   "execution_count": null,
   "metadata": {},
   "outputs": [],
   "source": [
    "merged_vgg_df.groupby(['Nationality_original', 'Nationality_converted']).mean()"
   ]
  },
  {
   "cell_type": "code",
   "execution_count": 158,
   "metadata": {},
   "outputs": [
    {
     "data": {
      "text/html": [
       "<div>\n",
       "<style scoped>\n",
       "    .dataframe tbody tr th:only-of-type {\n",
       "        vertical-align: middle;\n",
       "    }\n",
       "\n",
       "    .dataframe tbody tr th {\n",
       "        vertical-align: top;\n",
       "    }\n",
       "\n",
       "    .dataframe thead th {\n",
       "        text-align: right;\n",
       "    }\n",
       "</style>\n",
       "<table border=\"1\" class=\"dataframe\">\n",
       "  <thead>\n",
       "    <tr style=\"text-align: right;\">\n",
       "      <th></th>\n",
       "      <th></th>\n",
       "      <th>ulyanov_mos_score</th>\n",
       "      <th>Unnamed: 0</th>\n",
       "    </tr>\n",
       "    <tr>\n",
       "      <th>Gender_original</th>\n",
       "      <th>Gender_converted</th>\n",
       "      <th></th>\n",
       "      <th></th>\n",
       "    </tr>\n",
       "  </thead>\n",
       "  <tbody>\n",
       "    <tr>\n",
       "      <th rowspan=\"2\" valign=\"top\">f</th>\n",
       "      <th>f</th>\n",
       "      <td>2.364500</td>\n",
       "      <td>270.666667</td>\n",
       "    </tr>\n",
       "    <tr>\n",
       "      <th>m</th>\n",
       "      <td>2.438909</td>\n",
       "      <td>269.000000</td>\n",
       "    </tr>\n",
       "    <tr>\n",
       "      <th rowspan=\"2\" valign=\"top\">m</th>\n",
       "      <th>f</th>\n",
       "      <td>2.648745</td>\n",
       "      <td>273.765957</td>\n",
       "    </tr>\n",
       "    <tr>\n",
       "      <th>m</th>\n",
       "      <td>2.691048</td>\n",
       "      <td>272.333333</td>\n",
       "    </tr>\n",
       "  </tbody>\n",
       "</table>\n",
       "</div>"
      ],
      "text/plain": [
       "                                  ulyanov_mos_score  Unnamed: 0\n",
       "Gender_original Gender_converted                               \n",
       "f               f                          2.364500  270.666667\n",
       "                m                          2.438909  269.000000\n",
       "m               f                          2.648745  273.765957\n",
       "                m                          2.691048  272.333333"
      ]
     },
     "execution_count": 158,
     "metadata": {},
     "output_type": "execute_result"
    }
   ],
   "source": [
    "merged_shallow_cnn_df.groupby(['Gender_original', 'Gender_converted']).mean()"
   ]
  },
  {
   "cell_type": "code",
   "execution_count": 161,
   "metadata": {},
   "outputs": [
    {
     "data": {
      "text/html": [
       "<div>\n",
       "<style scoped>\n",
       "    .dataframe tbody tr th:only-of-type {\n",
       "        vertical-align: middle;\n",
       "    }\n",
       "\n",
       "    .dataframe tbody tr th {\n",
       "        vertical-align: top;\n",
       "    }\n",
       "\n",
       "    .dataframe thead th {\n",
       "        text-align: right;\n",
       "    }\n",
       "</style>\n",
       "<table border=\"1\" class=\"dataframe\">\n",
       "  <thead>\n",
       "    <tr style=\"text-align: right;\">\n",
       "      <th></th>\n",
       "      <th></th>\n",
       "      <th>ulyanov_mos_score</th>\n",
       "      <th>Unnamed: 0</th>\n",
       "    </tr>\n",
       "    <tr>\n",
       "      <th>Nationality_original</th>\n",
       "      <th>Nationality_converted</th>\n",
       "      <th></th>\n",
       "      <th></th>\n",
       "    </tr>\n",
       "  </thead>\n",
       "  <tbody>\n",
       "    <tr>\n",
       "      <th>Ireland</th>\n",
       "      <th>USA</th>\n",
       "      <td>2.544000</td>\n",
       "      <td>279.000000</td>\n",
       "    </tr>\n",
       "    <tr>\n",
       "      <th rowspan=\"3\" valign=\"top\">Spain</th>\n",
       "      <th>Ireland</th>\n",
       "      <td>2.520000</td>\n",
       "      <td>276.000000</td>\n",
       "    </tr>\n",
       "    <tr>\n",
       "      <th>UK</th>\n",
       "      <td>2.469000</td>\n",
       "      <td>276.000000</td>\n",
       "    </tr>\n",
       "    <tr>\n",
       "      <th>USA</th>\n",
       "      <td>2.543000</td>\n",
       "      <td>276.000000</td>\n",
       "    </tr>\n",
       "    <tr>\n",
       "      <th rowspan=\"9\" valign=\"top\">UK</th>\n",
       "      <th>Canada</th>\n",
       "      <td>2.556000</td>\n",
       "      <td>270.000000</td>\n",
       "    </tr>\n",
       "    <tr>\n",
       "      <th>France</th>\n",
       "      <td>2.691000</td>\n",
       "      <td>270.000000</td>\n",
       "    </tr>\n",
       "    <tr>\n",
       "      <th>India</th>\n",
       "      <td>2.755000</td>\n",
       "      <td>270.000000</td>\n",
       "    </tr>\n",
       "    <tr>\n",
       "      <th>Ireland</th>\n",
       "      <td>2.787600</td>\n",
       "      <td>271.400000</td>\n",
       "    </tr>\n",
       "    <tr>\n",
       "      <th>Mexico</th>\n",
       "      <td>2.848000</td>\n",
       "      <td>270.000000</td>\n",
       "    </tr>\n",
       "    <tr>\n",
       "      <th>Norway</th>\n",
       "      <td>2.770000</td>\n",
       "      <td>270.000000</td>\n",
       "    </tr>\n",
       "    <tr>\n",
       "      <th>Spain</th>\n",
       "      <td>2.369333</td>\n",
       "      <td>272.333333</td>\n",
       "    </tr>\n",
       "    <tr>\n",
       "      <th>UK</th>\n",
       "      <td>2.707571</td>\n",
       "      <td>271.285714</td>\n",
       "    </tr>\n",
       "    <tr>\n",
       "      <th>USA</th>\n",
       "      <td>2.623829</td>\n",
       "      <td>271.142857</td>\n",
       "    </tr>\n",
       "    <tr>\n",
       "      <th rowspan=\"5\" valign=\"top\">USA</th>\n",
       "      <th>Canada</th>\n",
       "      <td>2.707000</td>\n",
       "      <td>278.000000</td>\n",
       "    </tr>\n",
       "    <tr>\n",
       "      <th>Ireland</th>\n",
       "      <td>2.643667</td>\n",
       "      <td>273.666667</td>\n",
       "    </tr>\n",
       "    <tr>\n",
       "      <th>Spain</th>\n",
       "      <td>2.347000</td>\n",
       "      <td>271.750000</td>\n",
       "    </tr>\n",
       "    <tr>\n",
       "      <th>UK</th>\n",
       "      <td>2.614333</td>\n",
       "      <td>272.250000</td>\n",
       "    </tr>\n",
       "    <tr>\n",
       "      <th>USA</th>\n",
       "      <td>2.693947</td>\n",
       "      <td>273.342105</td>\n",
       "    </tr>\n",
       "  </tbody>\n",
       "</table>\n",
       "</div>"
      ],
      "text/plain": [
       "                                            ulyanov_mos_score  Unnamed: 0\n",
       "Nationality_original Nationality_converted                               \n",
       "Ireland              USA                             2.544000  279.000000\n",
       "Spain                Ireland                         2.520000  276.000000\n",
       "                     UK                              2.469000  276.000000\n",
       "                     USA                             2.543000  276.000000\n",
       "UK                   Canada                          2.556000  270.000000\n",
       "                     France                          2.691000  270.000000\n",
       "                     India                           2.755000  270.000000\n",
       "                     Ireland                         2.787600  271.400000\n",
       "                     Mexico                          2.848000  270.000000\n",
       "                     Norway                          2.770000  270.000000\n",
       "                     Spain                           2.369333  272.333333\n",
       "                     UK                              2.707571  271.285714\n",
       "                     USA                             2.623829  271.142857\n",
       "USA                  Canada                          2.707000  278.000000\n",
       "                     Ireland                         2.643667  273.666667\n",
       "                     Spain                           2.347000  271.750000\n",
       "                     UK                              2.614333  272.250000\n",
       "                     USA                             2.693947  273.342105"
      ]
     },
     "execution_count": 161,
     "metadata": {},
     "output_type": "execute_result"
    }
   ],
   "source": [
    "merged_shallow_cnn_df.groupby(['Nationality_original', 'Nationality_converted']).mean()"
   ]
  },
  {
   "cell_type": "code",
   "execution_count": 160,
   "metadata": {},
   "outputs": [
    {
     "data": {
      "text/html": [
       "<div>\n",
       "<style scoped>\n",
       "    .dataframe tbody tr th:only-of-type {\n",
       "        vertical-align: middle;\n",
       "    }\n",
       "\n",
       "    .dataframe tbody tr th {\n",
       "        vertical-align: top;\n",
       "    }\n",
       "\n",
       "    .dataframe thead th {\n",
       "        text-align: right;\n",
       "    }\n",
       "</style>\n",
       "<table border=\"1\" class=\"dataframe\">\n",
       "  <thead>\n",
       "    <tr style=\"text-align: right;\">\n",
       "      <th></th>\n",
       "      <th></th>\n",
       "      <th>autovc_mos_score</th>\n",
       "      <th>Unnamed: 0</th>\n",
       "    </tr>\n",
       "    <tr>\n",
       "      <th>Gender_original</th>\n",
       "      <th>Gender_converted</th>\n",
       "      <th></th>\n",
       "      <th></th>\n",
       "    </tr>\n",
       "  </thead>\n",
       "  <tbody>\n",
       "    <tr>\n",
       "      <th rowspan=\"2\" valign=\"top\">f</th>\n",
       "      <th>f</th>\n",
       "      <td>3.081118</td>\n",
       "      <td>270.235294</td>\n",
       "    </tr>\n",
       "    <tr>\n",
       "      <th>m</th>\n",
       "      <td>3.220923</td>\n",
       "      <td>269.384615</td>\n",
       "    </tr>\n",
       "    <tr>\n",
       "      <th rowspan=\"2\" valign=\"top\">m</th>\n",
       "      <th>f</th>\n",
       "      <td>2.770459</td>\n",
       "      <td>271.351351</td>\n",
       "    </tr>\n",
       "    <tr>\n",
       "      <th>m</th>\n",
       "      <td>3.032298</td>\n",
       "      <td>271.052632</td>\n",
       "    </tr>\n",
       "  </tbody>\n",
       "</table>\n",
       "</div>"
      ],
      "text/plain": [
       "                                  autovc_mos_score  Unnamed: 0\n",
       "Gender_original Gender_converted                              \n",
       "f               f                         3.081118  270.235294\n",
       "                m                         3.220923  269.384615\n",
       "m               f                         2.770459  271.351351\n",
       "                m                         3.032298  271.052632"
      ]
     },
     "execution_count": 160,
     "metadata": {},
     "output_type": "execute_result"
    }
   ],
   "source": [
    "merged_autovc_df.groupby(['Gender_original', 'Gender_converted']).mean()"
   ]
  },
  {
   "cell_type": "code",
   "execution_count": 125,
   "metadata": {},
   "outputs": [],
   "source": [
    "metadata = pd.read_csv('test_vox1_metadata.csv')\n",
    "\n",
    "metadata['content_id'] = metadata['VoxCeleb1 ID']\n",
    "metadata = metadata.drop(columns='VoxCeleb1 ID')\n",
    "pd.merge(autovc_df, metadata, on='content_id')\n",
    "metadata['style_id'] = metadata['content_id']\n",
    "merged_df['converted_style_id'] = merged_df['style_id']\n",
    "merged_autovc_df = pd.merge(merged_df, metadata[['style_id','Gender', 'Nationality']], on='style_id', suffixes=('_original', '_converted'))\n"
   ]
  },
  {
   "cell_type": "code",
   "execution_count": 162,
   "metadata": {},
   "outputs": [
    {
     "data": {
      "text/plain": [
       "310"
      ]
     },
     "execution_count": 162,
     "metadata": {},
     "output_type": "execute_result"
    }
   ],
   "source": [
    "len(merged_autovc_df) + len(merged_shallow_cnn_df) + len(merged_vgg_df)"
   ]
  },
  {
   "cell_type": "code",
   "execution_count": null,
   "metadata": {},
   "outputs": [],
   "source": []
  }
 ],
 "metadata": {
  "kernelspec": {
   "display_name": "Python 3",
   "language": "python",
   "name": "python3"
  },
  "language_info": {
   "codemirror_mode": {
    "name": "ipython",
    "version": 3
   },
   "file_extension": ".py",
   "mimetype": "text/x-python",
   "name": "python",
   "nbconvert_exporter": "python",
   "pygments_lexer": "ipython3",
   "version": "3.6.2"
  }
 },
 "nbformat": 4,
 "nbformat_minor": 2
}
